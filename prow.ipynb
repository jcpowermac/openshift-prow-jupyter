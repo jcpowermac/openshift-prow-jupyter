{
 "cells": [
  {
   "cell_type": "code",
   "execution_count": 7,
   "id": "20a84e17-8546-4de3-8cd5-ec22bdddb9d0",
   "metadata": {
    "tags": [
     "hide-cell"
    ]
   },
   "outputs": [],
   "source": [
    "import requests\n",
    "import re\n",
    "import pandas as pd\n",
    "from ipywidgets import interact, interactive, fixed, interact_manual\n",
    "import ipywidgets as widgets\n",
    "import sys\n",
    "from IPython.display import display, clear_output"
   ]
  },
  {
   "cell_type": "code",
   "execution_count": 8,
   "id": "bb56f564",
   "metadata": {
    "tags": [
     "hide-cell"
    ]
   },
   "outputs": [],
   "source": [
    "def make_clickable(val):\n",
    "    return '<a target=\"_blank\" href=\"{}\">{}</a>'.format(val, val)"
   ]
  },
  {
   "cell_type": "code",
   "execution_count": 9,
   "id": "5a298d50-4809-40e7-8e2f-95f3ac182fe8",
   "metadata": {
    "tags": [
     "hide-cell"
    ]
   },
   "outputs": [],
   "source": [
    "r = requests.get('https://prow.ci.openshift.org/prowjobs.js?omit=annotations,decoration_config,pod_spec')"
   ]
  },
  {
   "cell_type": "code",
   "execution_count": 10,
   "id": "61c81aba-f4cc-429f-b373-780047d20096",
   "metadata": {
    "tags": [
     "hide-cell"
    ]
   },
   "outputs": [],
   "source": [
    "results = r.json()"
   ]
  },
  {
   "cell_type": "code",
   "execution_count": 11,
   "id": "5ac93a98-3790-44cc-b8b2-70250f41572d",
   "metadata": {
    "tags": [
     "hide-input"
    ]
   },
   "outputs": [],
   "source": [
    "def plot_test_results(platform):\n",
    "    clear_output(wait=True)\n",
    "    jobresults = {}\n",
    "    #platforms = ['vsphere', 'azure', 'arm']\n",
    "\n",
    "    for item in results['items']:\n",
    "        #if any(x in item['spec']['job'] for x in platforms):\n",
    "        if platform in item['spec']['job']:\n",
    "            if 'periodic' in item['metadata']['labels']['prow.k8s.io/type']:\n",
    "                try:      \n",
    "                    version = re.search(r'(\\d\\.\\d*)', item['metadata']['labels']['ci-operator.openshift.io/variant']).group(1)\n",
    "\n",
    "                    if version not in jobresults:\n",
    "                        jobresults[version] = {}\n",
    "                        jobresults[version]['failure'] = 0\n",
    "                        jobresults[version]['success'] = 0\n",
    "                        jobresults[version]['urls'] = []\n",
    "\n",
    "                    if not any(x in item['status']['state'] for x in ['success', 'pending']):\n",
    "                        jobresults[version]['failure'] += 1\n",
    "                        jobresults[version]['urls'].append(item['status']['url'])\n",
    "                    else:\n",
    "                        jobresults[version]['success'] += 1 \n",
    "                except:\n",
    "                    pass\n",
    "                \n",
    "    \n",
    "    \n",
    "    plotdata = pd.DataFrame.from_dict(jobresults, orient='index')\n",
    "    df = plotdata.explode('urls')\n",
    "    bar = plotdata.plot(kind=\"bar\", title=\"Periodics: {}\".format(platform))\n",
    "    \n",
    "    s = df.style.format({'urls': make_clickable}).hide_columns([\"failure\",\"success\"])\n",
    "    \n",
    "    \n",
    "    display(s)\n",
    "    display(bar)\n",
    "    sys.stdout.flush()"
   ]
  },
  {
   "cell_type": "code",
   "execution_count": 12,
   "id": "254caf86-fd39-4a00-8856-ad21a92d5832",
   "metadata": {
    "scrolled": false
   },
   "outputs": [
    {
     "data": {
      "application/vnd.jupyter.widget-view+json": {
       "model_id": "95541a171b4047e89189995654df935a",
       "version_major": 2,
       "version_minor": 0
      },
      "text/plain": [
       "interactive(children=(Select(description='platform', options=('vsphere', 'azure', 'arm'), value='vsphere'), Ou…"
      ]
     },
     "metadata": {},
     "output_type": "display_data"
    },
    {
     "data": {
      "text/plain": [
       "<function __main__.plot_test_results(platform)>"
      ]
     },
     "execution_count": 12,
     "metadata": {},
     "output_type": "execute_result"
    },
    {
     "data": {
      "image/png": "[encoded data removed]",
      "text/plain": [
       "<Figure size 432x288 with 1 Axes>"
      ]
     },
     "metadata": {
      "needs_background": "light"
     },
     "output_type": "display_data"
    }
   ],
   "source": [
    "interact(plot_test_results, platform=widgets.Select(options=[\"vsphere\",\"azure\",\"arm\"]))"
   ]
  }
 ],
 "metadata": {
  "celltoolbar": "Tags",
  "kernelspec": {
   "display_name": "Python 3 (ipykernel)",
   "language": "python",
   "name": "python3"
  },
  "language_info": {
   "codemirror_mode": {
    "name": "ipython",
    "version": 3
   },
   "file_extension": ".py",
   "mimetype": "text/x-python",
   "name": "python",
   "nbconvert_exporter": "python",
   "pygments_lexer": "ipython3",
   "version": "3.9.5"
  }
 },
 "nbformat": 4,
 "nbformat_minor": 5
}
